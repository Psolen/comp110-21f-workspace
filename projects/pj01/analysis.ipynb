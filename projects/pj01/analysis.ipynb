{
 "cells": [
  {
   "cell_type": "markdown",
   "metadata": {},
   "source": [
    "# Hypothesis: I believe students who attend office hours are less likely to recommend the course because they needed extra help with the course. "
   ]
  },
  {
   "cell_type": "markdown",
   "metadata": {},
   "source": [
    "__author__ = \"730247598"
   ]
  },
  {
   "cell_type": "markdown",
   "metadata": {},
   "source": [
    " ## First I will enable autoreload to automatically reload any changes I make and save in **data_utilities.py**."
   ]
  },
  {
   "cell_type": "code",
   "execution_count": 151,
   "metadata": {},
   "outputs": [],
   "source": [
    "%reload_ext autoreload\n",
    "%autoreload 2"
   ]
  },
  {
   "cell_type": "markdown",
   "metadata": {},
   "source": [
    "## Then I will import in the survey data table."
   ]
  },
  {
   "cell_type": "code",
   "execution_count": 152,
   "metadata": {},
   "outputs": [
    {
     "name": "stdout",
     "output_type": "stream",
     "text": [
      "Data File Read: ../../data/survey.csv\n",
      "573 rows\n",
      "36 columns\n",
      "Columns names: dict_keys(['row_number', 'year', 'unc_status', 'comp_major', 'primary_major', 'data_science', 'prereqs', 'prior_exp', 'AP_Principles', 'AP_A', 'other_comp', 'prior_time', 'languages', 'section', 'in_person_classes', 'hours_online_social', 'hours_online_work', 'lesson_time', 'sync_perf', 'all_sync', 'own_notes', 'own_examples', 'oh_visits', 'ls_effective', 'lsqs_effective', 'programming_effective', 'qz_effective', 'oh_effective', 'tutoring_effective', 'kaki_effective', 'pace', 'difficulty', 'understanding', 'interesting', 'valuable', 'would_recommend'])\n"
     ]
    }
   ],
   "source": [
    "from data_utilities import read_csv_rows\n",
    "from __future__ import annotations\n",
    "\n",
    "DATA_DIRECTORY = \"../../data\"\n",
    "DATA_FILE_PATH = f\"{DATA_DIRECTORY}/survey.csv\"\n",
    "\n",
    "data_rows: list[dict[str, str]] = read_csv_rows('../../data/survey.csv')\n",
    "\n",
    "if len(data_rows) == 0:\n",
    "    print(\"Go implement read_csv_rows in data_utils.py\")\n",
    "else:\n",
    "    print(f\"Data File Read: {DATA_FILE_PATH}\")\n",
    "    print(f\"{len(data_rows)} rows\")\n",
    "    print(f\"{len(data_rows[0].keys())} columns\")\n",
    "    print(f\"Columns names: {data_rows[0].keys()}\")"
   ]
  },
  {
   "cell_type": "markdown",
   "metadata": {},
   "source": [
    "## In order to manipulate the data in the table easier, I will convert the table from a list of rows into a dictionary of columns."
   ]
  },
  {
   "cell_type": "code",
   "execution_count": 153,
   "metadata": {},
   "outputs": [
    {
     "name": "stdout",
     "output_type": "stream",
     "text": [
      "36 columns\n",
      "573 rows\n",
      "Columns names: dict_keys(['row_number', 'year', 'unc_status', 'comp_major', 'primary_major', 'data_science', 'prereqs', 'prior_exp', 'AP_Principles', 'AP_A', 'other_comp', 'prior_time', 'languages', 'section', 'in_person_classes', 'hours_online_social', 'hours_online_work', 'lesson_time', 'sync_perf', 'all_sync', 'own_notes', 'own_examples', 'oh_visits', 'ls_effective', 'lsqs_effective', 'programming_effective', 'qz_effective', 'oh_effective', 'tutoring_effective', 'kaki_effective', 'pace', 'difficulty', 'understanding', 'interesting', 'valuable', 'would_recommend'])\n"
     ]
    }
   ],
   "source": [
    "from data_utilities import columnar\n",
    "\n",
    "data_cols: dict[str, list[str]] = columnar(data_rows)\n",
    "\n",
    "if len(data_cols.keys()) == 0:\n",
    "    print(\"Error: empty table\")\n",
    "else:\n",
    "    print(f\"{len(data_cols.keys())} columns\")\n",
    "    print(f\"{len(data_cols['row_number'])} rows\")\n",
    "    print(f\"Columns names: {data_cols.keys()}\")"
   ]
  },
  {
   "cell_type": "markdown",
   "metadata": {},
   "source": [
    "## After that, I'll print the first 5 values in each of the columns to make sure I'm getting the data I want. For better readability, I'll tabulate the data."
   ]
  },
  {
   "cell_type": "code",
   "execution_count": 154,
   "metadata": {},
   "outputs": [
    {
     "name": "stdout",
     "output_type": "stream",
     "text": [
      "Complete your implementation of columnar in data_utils.py\n",
      "Be sure to follow the guidelines above and save your work before re-evaluating!\n"
     ]
    },
    {
     "data": {
      "text/html": [
       "<table>\n",
       "<thead>\n",
       "<tr><th style=\"text-align: right;\">  row_number</th><th style=\"text-align: right;\">  year</th><th>unc_status           </th><th>comp_major  </th><th>primary_major                   </th><th>data_science  </th><th>prereqs                                          </th><th>prior_exp                   </th><th>AP_Principles  </th><th>AP_A  </th><th>other_comp  </th><th>prior_time  </th><th>languages  </th><th>section  </th><th>in_person_classes  </th><th>hours_online_social  </th><th>hours_online_work  </th><th style=\"text-align: right;\">  lesson_time</th><th style=\"text-align: right;\">  sync_perf</th><th style=\"text-align: right;\">  all_sync</th><th style=\"text-align: right;\">  own_notes</th><th style=\"text-align: right;\">  own_examples</th><th style=\"text-align: right;\">  oh_visits</th><th style=\"text-align: right;\">  ls_effective</th><th style=\"text-align: right;\">  lsqs_effective</th><th style=\"text-align: right;\">  programming_effective</th><th style=\"text-align: right;\">  qz_effective</th><th>oh_effective  </th><th>tutoring_effective  </th><th>kaki_effective  </th><th style=\"text-align: right;\">  pace</th><th style=\"text-align: right;\">  difficulty</th><th style=\"text-align: right;\">  understanding</th><th style=\"text-align: right;\">  interesting</th><th style=\"text-align: right;\">  valuable</th><th style=\"text-align: right;\">  would_recommend</th></tr>\n",
       "</thead>\n",
       "<tbody>\n",
       "<tr><td style=\"text-align: right;\">           0</td><td style=\"text-align: right;\">    23</td><td>Returning UNC Student</td><td>No          </td><td>Advertising and Public Relations</td><td>No            </td><td>MATH 129P, MATH 130                              </td><td>None to less than one month!</td><td>               </td><td>      </td><td>            </td><td>            </td><td>           </td><td>In-Person</td><td>                   </td><td>3 to 5 hours         </td><td>3 to 5 hours       </td><td style=\"text-align: right;\">            5</td><td style=\"text-align: right;\">          2</td><td style=\"text-align: right;\">         2</td><td style=\"text-align: right;\">          4</td><td style=\"text-align: right;\">             2</td><td style=\"text-align: right;\">          2</td><td style=\"text-align: right;\">             7</td><td style=\"text-align: right;\">               6</td><td style=\"text-align: right;\">                      6</td><td style=\"text-align: right;\">             5</td><td>5             </td><td>                    </td><td>3               </td><td style=\"text-align: right;\">     5</td><td style=\"text-align: right;\">           5</td><td style=\"text-align: right;\">              4</td><td style=\"text-align: right;\">            5</td><td style=\"text-align: right;\">         6</td><td style=\"text-align: right;\">                7</td></tr>\n",
       "<tr><td style=\"text-align: right;\">           1</td><td style=\"text-align: right;\">    24</td><td>Returning UNC Student</td><td>No          </td><td>Anthropology                    </td><td>No            </td><td>MATH 129P, MATH 231                              </td><td>None to less than one month!</td><td>               </td><td>      </td><td>            </td><td>            </td><td>           </td><td>In-Person</td><td>                   </td><td>5 to 10 hours        </td><td>5 to 10 hours      </td><td style=\"text-align: right;\">            4</td><td style=\"text-align: right;\">          5</td><td style=\"text-align: right;\">         4</td><td style=\"text-align: right;\">          7</td><td style=\"text-align: right;\">             6</td><td style=\"text-align: right;\">          0</td><td style=\"text-align: right;\">             6</td><td style=\"text-align: right;\">               5</td><td style=\"text-align: right;\">                      7</td><td style=\"text-align: right;\">             5</td><td>              </td><td>                    </td><td>6               </td><td style=\"text-align: right;\">     5</td><td style=\"text-align: right;\">           3</td><td style=\"text-align: right;\">              7</td><td style=\"text-align: right;\">            7</td><td style=\"text-align: right;\">         7</td><td style=\"text-align: right;\">                7</td></tr>\n",
       "<tr><td style=\"text-align: right;\">           2</td><td style=\"text-align: right;\">    23</td><td>Returning UNC Student</td><td>No          </td><td>Biology                         </td><td>No            </td><td>MATH 231, MATH 232, MATH 233, MATH 381           </td><td>None to less than one month!</td><td>               </td><td>      </td><td>            </td><td>            </td><td>           </td><td>Remote   </td><td>Yes                </td><td>3 to 5 hours         </td><td>5 to 10 hours      </td><td style=\"text-align: right;\">            2</td><td style=\"text-align: right;\">          1</td><td style=\"text-align: right;\">         1</td><td style=\"text-align: right;\">          7</td><td style=\"text-align: right;\">             6</td><td style=\"text-align: right;\">          0</td><td style=\"text-align: right;\">             7</td><td style=\"text-align: right;\">               7</td><td style=\"text-align: right;\">                      7</td><td style=\"text-align: right;\">             7</td><td>              </td><td>                    </td><td>                </td><td style=\"text-align: right;\">     5</td><td style=\"text-align: right;\">           5</td><td style=\"text-align: right;\">              6</td><td style=\"text-align: right;\">            7</td><td style=\"text-align: right;\">         7</td><td style=\"text-align: right;\">                7</td></tr>\n",
       "<tr><td style=\"text-align: right;\">           3</td><td style=\"text-align: right;\">    24</td><td>Returning UNC Student</td><td>No          </td><td>Biology                         </td><td>No            </td><td>MATH 130, MATH 231                               </td><td>None to less than one month!</td><td>               </td><td>      </td><td>            </td><td>            </td><td>           </td><td>         </td><td>Yes                </td><td>5 to 10 hours        </td><td>5 to 10 hours      </td><td style=\"text-align: right;\">            2</td><td style=\"text-align: right;\">          3</td><td style=\"text-align: right;\">         1</td><td style=\"text-align: right;\">          6</td><td style=\"text-align: right;\">             4</td><td style=\"text-align: right;\">          4</td><td style=\"text-align: right;\">             7</td><td style=\"text-align: right;\">               7</td><td style=\"text-align: right;\">                      7</td><td style=\"text-align: right;\">             7</td><td>7             </td><td>7                   </td><td>7               </td><td style=\"text-align: right;\">     6</td><td style=\"text-align: right;\">           6</td><td style=\"text-align: right;\">              4</td><td style=\"text-align: right;\">            5</td><td style=\"text-align: right;\">         4</td><td style=\"text-align: right;\">                7</td></tr>\n",
       "<tr><td style=\"text-align: right;\">           4</td><td style=\"text-align: right;\">    22</td><td>Returning UNC Student</td><td>No          </td><td>Biology                         </td><td>No            </td><td>MATH 129P, MATH 130, MATH 231, MATH 232, MATH 233</td><td>None to less than one month!</td><td>               </td><td>      </td><td>            </td><td>            </td><td>           </td><td>Remote   </td><td>Yes                </td><td>3 to 5 hours         </td><td>3 to 5 hours       </td><td style=\"text-align: right;\">            3</td><td style=\"text-align: right;\">          1</td><td style=\"text-align: right;\">         1</td><td style=\"text-align: right;\">          5</td><td style=\"text-align: right;\">             4</td><td style=\"text-align: right;\">          1</td><td style=\"text-align: right;\">             6</td><td style=\"text-align: right;\">               6</td><td style=\"text-align: right;\">                      7</td><td style=\"text-align: right;\">             5</td><td>              </td><td>                    </td><td>                </td><td style=\"text-align: right;\">     5</td><td style=\"text-align: right;\">           4</td><td style=\"text-align: right;\">              4</td><td style=\"text-align: right;\">            6</td><td style=\"text-align: right;\">         6</td><td style=\"text-align: right;\">                7</td></tr>\n",
       "</tbody>\n",
       "</table>"
      ],
      "text/plain": [
       "'<table>\\n<thead>\\n<tr><th style=\"text-align: right;\">  row_number</th><th style=\"text-align: right;\">  year</th><th>unc_status           </th><th>comp_major  </th><th>primary_major                   </th><th>data_science  </th><th>prereqs                                          </th><th>prior_exp                   </th><th>AP_Principles  </th><th>AP_A  </th><th>other_comp  </th><th>prior_time  </th><th>languages  </th><th>section  </th><th>in_person_classes  </th><th>hours_online_social  </th><th>hours_online_work  </th><th style=\"text-align: right;\">  lesson_time</th><th style=\"text-align: right;\">  sync_perf</th><th style=\"text-align: right;\">  all_sync</th><th style=\"text-align: right;\">  own_notes</th><th style=\"text-align: right;\">  own_examples</th><th style=\"text-align: right;\">  oh_visits</th><th style=\"text-align: right;\">  ls_effective</th><th style=\"text-align: right;\">  lsqs_effective</th><th style=\"text-align: right;\">  programming_effective</th><th style=\"text-align: right;\">  qz_effective</th><th>oh_effective  </th><th>tutoring_effective  </th><th>kaki_effective  </th><th style=\"text-align: right;\">  pace</th><th style=\"text-align: right;\">  difficulty</th><th style=\"text-align: right;\">  understanding</th><th style=\"text-align: right;\">  interesting</th><th style=\"text-align: right;\">  valuable</th><th style=\"text-align: right;\">  would_recommend</th></tr>\\n</thead>\\n<tbody>\\n<tr><td style=\"text-align: right;\">           0</td><td style=\"text-align: right;\">    23</td><td>Returning UNC Student</td><td>No          </td><td>Advertising and Public Relations</td><td>No            </td><td>MATH 129P, MATH 130                              </td><td>None to less than one month!</td><td>               </td><td>      </td><td>            </td><td>            </td><td>           </td><td>In-Person</td><td>                   </td><td>3 to 5 hours         </td><td>3 to 5 hours       </td><td style=\"text-align: right;\">            5</td><td style=\"text-align: right;\">          2</td><td style=\"text-align: right;\">         2</td><td style=\"text-align: right;\">          4</td><td style=\"text-align: right;\">             2</td><td style=\"text-align: right;\">          2</td><td style=\"text-align: right;\">             7</td><td style=\"text-align: right;\">               6</td><td style=\"text-align: right;\">                      6</td><td style=\"text-align: right;\">             5</td><td>5             </td><td>                    </td><td>3               </td><td style=\"text-align: right;\">     5</td><td style=\"text-align: right;\">           5</td><td style=\"text-align: right;\">              4</td><td style=\"text-align: right;\">            5</td><td style=\"text-align: right;\">         6</td><td style=\"text-align: right;\">                7</td></tr>\\n<tr><td style=\"text-align: right;\">           1</td><td style=\"text-align: right;\">    24</td><td>Returning UNC Student</td><td>No          </td><td>Anthropology                    </td><td>No            </td><td>MATH 129P, MATH 231                              </td><td>None to less than one month!</td><td>               </td><td>      </td><td>            </td><td>            </td><td>           </td><td>In-Person</td><td>                   </td><td>5 to 10 hours        </td><td>5 to 10 hours      </td><td style=\"text-align: right;\">            4</td><td style=\"text-align: right;\">          5</td><td style=\"text-align: right;\">         4</td><td style=\"text-align: right;\">          7</td><td style=\"text-align: right;\">             6</td><td style=\"text-align: right;\">          0</td><td style=\"text-align: right;\">             6</td><td style=\"text-align: right;\">               5</td><td style=\"text-align: right;\">                      7</td><td style=\"text-align: right;\">             5</td><td>              </td><td>                    </td><td>6               </td><td style=\"text-align: right;\">     5</td><td style=\"text-align: right;\">           3</td><td style=\"text-align: right;\">              7</td><td style=\"text-align: right;\">            7</td><td style=\"text-align: right;\">         7</td><td style=\"text-align: right;\">                7</td></tr>\\n<tr><td style=\"text-align: right;\">           2</td><td style=\"text-align: right;\">    23</td><td>Returning UNC Student</td><td>No          </td><td>Biology                         </td><td>No            </td><td>MATH 231, MATH 232, MATH 233, MATH 381           </td><td>None to less than one month!</td><td>               </td><td>      </td><td>            </td><td>            </td><td>           </td><td>Remote   </td><td>Yes                </td><td>3 to 5 hours         </td><td>5 to 10 hours      </td><td style=\"text-align: right;\">            2</td><td style=\"text-align: right;\">          1</td><td style=\"text-align: right;\">         1</td><td style=\"text-align: right;\">          7</td><td style=\"text-align: right;\">             6</td><td style=\"text-align: right;\">          0</td><td style=\"text-align: right;\">             7</td><td style=\"text-align: right;\">               7</td><td style=\"text-align: right;\">                      7</td><td style=\"text-align: right;\">             7</td><td>              </td><td>                    </td><td>                </td><td style=\"text-align: right;\">     5</td><td style=\"text-align: right;\">           5</td><td style=\"text-align: right;\">              6</td><td style=\"text-align: right;\">            7</td><td style=\"text-align: right;\">         7</td><td style=\"text-align: right;\">                7</td></tr>\\n<tr><td style=\"text-align: right;\">           3</td><td style=\"text-align: right;\">    24</td><td>Returning UNC Student</td><td>No          </td><td>Biology                         </td><td>No            </td><td>MATH 130, MATH 231                               </td><td>None to less than one month!</td><td>               </td><td>      </td><td>            </td><td>            </td><td>           </td><td>         </td><td>Yes                </td><td>5 to 10 hours        </td><td>5 to 10 hours      </td><td style=\"text-align: right;\">            2</td><td style=\"text-align: right;\">          3</td><td style=\"text-align: right;\">         1</td><td style=\"text-align: right;\">          6</td><td style=\"text-align: right;\">             4</td><td style=\"text-align: right;\">          4</td><td style=\"text-align: right;\">             7</td><td style=\"text-align: right;\">               7</td><td style=\"text-align: right;\">                      7</td><td style=\"text-align: right;\">             7</td><td>7             </td><td>7                   </td><td>7               </td><td style=\"text-align: right;\">     6</td><td style=\"text-align: right;\">           6</td><td style=\"text-align: right;\">              4</td><td style=\"text-align: right;\">            5</td><td style=\"text-align: right;\">         4</td><td style=\"text-align: right;\">                7</td></tr>\\n<tr><td style=\"text-align: right;\">           4</td><td style=\"text-align: right;\">    22</td><td>Returning UNC Student</td><td>No          </td><td>Biology                         </td><td>No            </td><td>MATH 129P, MATH 130, MATH 231, MATH 232, MATH 233</td><td>None to less than one month!</td><td>               </td><td>      </td><td>            </td><td>            </td><td>           </td><td>Remote   </td><td>Yes                </td><td>3 to 5 hours         </td><td>3 to 5 hours       </td><td style=\"text-align: right;\">            3</td><td style=\"text-align: right;\">          1</td><td style=\"text-align: right;\">         1</td><td style=\"text-align: right;\">          5</td><td style=\"text-align: right;\">             4</td><td style=\"text-align: right;\">          1</td><td style=\"text-align: right;\">             6</td><td style=\"text-align: right;\">               6</td><td style=\"text-align: right;\">                      7</td><td style=\"text-align: right;\">             5</td><td>              </td><td>                    </td><td>                </td><td style=\"text-align: right;\">     5</td><td style=\"text-align: right;\">           4</td><td style=\"text-align: right;\">              4</td><td style=\"text-align: right;\">            6</td><td style=\"text-align: right;\">         6</td><td style=\"text-align: right;\">                7</td></tr>\\n</tbody>\\n</table>'"
      ]
     },
     "execution_count": 154,
     "metadata": {},
     "output_type": "execute_result"
    }
   ],
   "source": [
    "from data_utilities import head\n",
    "from tabulate import tabulate\n",
    "\n",
    "data_cols_head: dict[str, list[str]] = head(data_cols, 5)\n",
    "\n",
    "if len(data_cols_head.keys()) != len(data_cols.keys()) or len(data_cols_head[\"row_number\"]) != 10:\n",
    "    print(\"Complete your implementation of columnar in data_utils.py\")\n",
    "    print(\"Be sure to follow the guidelines above and save your work before re-evaluating!\")\n",
    "\n",
    "\n",
    "tabulate(data_cols_head, data_cols_head.keys(), \"html\")"
   ]
  },
  {
   "cell_type": "markdown",
   "metadata": {},
   "source": [
    "## Next, I will isolate just the **OH_visits** column and the **would_recommend** column."
   ]
  },
  {
   "cell_type": "code",
   "execution_count": 155,
   "metadata": {},
   "outputs": [
    {
     "data": {
      "text/html": [
       "<table>\n",
       "<thead>\n",
       "<tr><th style=\"text-align: right;\">  oh_visits</th><th style=\"text-align: right;\">  would_recommend</th></tr>\n",
       "</thead>\n",
       "<tbody>\n",
       "<tr><td style=\"text-align: right;\">          2</td><td style=\"text-align: right;\">                7</td></tr>\n",
       "<tr><td style=\"text-align: right;\">          0</td><td style=\"text-align: right;\">                7</td></tr>\n",
       "</tbody>\n",
       "</table>"
      ],
      "text/plain": [
       "'<table>\\n<thead>\\n<tr><th style=\"text-align: right;\">  oh_visits</th><th style=\"text-align: right;\">  would_recommend</th></tr>\\n</thead>\\n<tbody>\\n<tr><td style=\"text-align: right;\">          2</td><td style=\"text-align: right;\">                7</td></tr>\\n<tr><td style=\"text-align: right;\">          0</td><td style=\"text-align: right;\">                7</td></tr>\\n</tbody>\\n</table>'"
      ]
     },
     "execution_count": 155,
     "metadata": {},
     "output_type": "execute_result"
    }
   ],
   "source": [
    "from data_utilities import select\n",
    "\n",
    "selected_data: dict[str, list[str]] = select(data_cols, [\"oh_visits\", \"would_recommend\"])\n",
    "\n",
    "tabulate(head(selected_data, 10), selected_data.keys(), \"html\")"
   ]
  },
  {
   "cell_type": "markdown",
   "metadata": {},
   "source": [
    "## I will take all the values in the oh_visits column and add them to a list called oh_visit_values."
   ]
  },
  {
   "cell_type": "code",
   "execution_count": 156,
   "metadata": {},
   "outputs": [
    {
     "name": "stdout",
     "output_type": "stream",
     "text": [
      "Column 'oh_visits' has 573 values.\n",
      "The first five values are:\n",
      "2\n",
      "0\n",
      "0\n",
      "4\n",
      "1\n"
     ]
    }
   ],
   "source": [
    "from data_utilities import column_values\n",
    "\n",
    "oh_visit_values: list[str] = column_values(data_rows, \"oh_visits\")\n",
    "\n",
    "if len(oh_visit_values) == 0:\n",
    "    print(\"Complete your implementation of column_values in data_utils.py\")\n",
    "    print(\"Be sure to follow the guidelines above and save your work before re-evaluating!\")\n",
    "else:\n",
    "    print(f\"Column 'oh_visits' has {len(oh_visit_values)} values.\")\n",
    "    print(\"The first five values are:\")\n",
    "    for i in range(5):\n",
    "        print(oh_visit_values[i])"
   ]
  },
  {
   "cell_type": "markdown",
   "metadata": {},
   "source": [
    "Then I will convert the oh_visits_values to a list of ints."
   ]
  },
  {
   "cell_type": "code",
   "execution_count": 157,
   "metadata": {},
   "outputs": [
    {
     "name": "stdout",
     "output_type": "stream",
     "text": [
      "[2, 0, 0, 4, 1, 1, 0, 1, 1, 2, 3, 2, 0, 3, 1, 0, 1, 2, 1, 2, 0, 0, 1, 0, 0, 0, 0, 1, 2, 0, 3, 1, 0, 2, 2, 1, 1, 0, 0, 1, 1, 2, 1, 2, 1, 1, 0, 1, 2, 2, 3, 1, 1, 1, 0, 1, 1, 1, 0, 1, 0, 1, 2, 2, 2, 1, 0, 1, 1, 4, 0, 3, 3, 5, 1, 1, 0, 0, 1, 4, 0, 2, 0, 2, 1, 1, 0, 0, 1, 0, 1, 1, 2, 2, 0, 0, 0, 0, 1, 2, 1, 1, 0, 1, 0, 1, 3, 3, 1, 2, 1, 0, 1, 1, 1, 0, 2, 1, 0, 1, 0, 5, 4, 1, 0, 3, 5, 5, 1, 2, 4, 2, 2, 0, 1, 5, 1, 0, 1, 3, 1, 4, 2, 0, 0, 2, 0, 1, 2, 0, 4, 0, 3, 0, 0, 0, 1, 0, 0, 0, 1, 0, 1, 2, 2, 2, 0, 0, 0, 0, 0, 0, 0, 1, 1, 0, 0, 1, 1, 1, 2, 0, 1, 1, 0, 1, 0, 0, 2, 0, 0, 0, 1, 0, 0, 0, 1, 1, 2, 0, 0, 0, 4, 1, 3, 0, 3, 0, 2, 0, 0, 1, 1, 0, 2, 1, 0, 1, 1, 1, 1, 0, 2, 2, 3, 5, 5, 3, 0, 0, 1, 0, 0, 1, 0, 2, 1, 0, 0, 1, 0, 2, 1, 2, 1, 1, 1, 0, 1, 1, 2, 0, 2, 0, 3, 0, 3, 4, 4, 0, 1, 3, 0, 0, 1, 0, 5, 0, 1, 5, 1, 1, 2, 2, 5, 5, 0, 3, 0, 0, 2, 2, 5, 2, 0, 0, 2, 1, 2, 0, 0, 1, 1, 2, 2, 2, 2, 2, 1, 0, 0, 4, 2, 1, 2, 1, 1, 1, 0, 1, 2, 2, 2, 1, 1, 0, 4, 1, 1, 0, 1, 1, 2, 2, 1, 0, 3, 0, 2, 0, 0, 0, 1, 2, 3, 0, 3, 2, 1, 1, 3, 5, 4, 3, 2, 2, 0, 0, 0, 3, 1, 2, 0, 0, 1, 0, 3, 0, 0, 1, 1, 5, 2, 5, 4, 1, 0, 3, 0, 0, 0, 0, 1, 0, 1, 0, 1, 0, 0, 1, 2, 0, 2, 1, 0, 2, 1, 4, 2, 2, 0, 0, 1, 1, 1, 0, 1, 1, 1, 1, 2, 0, 2, 3, 1, 3, 0, 2, 2, 1, 1, 1, 0, 0, 4, 2, 1, 4, 2, 3, 0, 0, 2, 1, 1, 2, 1, 1, 0, 1, 0, 1, 0, 3, 0, 2, 0, 1, 1, 0, 0, 1, 1, 0, 1, 2, 1, 1, 1, 2, 0, 2, 1, 0, 0, 2, 1, 4, 2, 0, 3, 2, 0, 1, 4, 3, 1, 3, 2, 2, 0, 3, 5, 3, 2, 2, 0, 0, 0, 5, 1, 5, 5, 3, 2, 3, 0, 3, 2, 2, 0, 1, 1, 3, 2, 2, 0, 1, 0, 5, 0, 2, 3, 1, 3, 1, 0, 2, 2, 0, 2, 1, 5, 2, 2, 5, 1, 0, 2, 2, 1, 1, 2, 2, 0, 1, 0, 1, 2, 2, 2, 0, 0, 2, 1, 1, 1, 1, 0, 0, 1, 1, 1, 1, 1, 0, 1, 0, 1, 1, 1, 0, 5, 2, 1, 0, 1, 2, 0, 1, 2, 3, 1, 0, 3, 1, 0, 2, 2, 0, 0, 1, 1]\n"
     ]
    }
   ],
   "source": [
    "for i in range(0, len(oh_visit_values)):\n",
    "    oh_visit_values[i] = int(oh_visit_values[i])\n",
    "\n",
    "print(oh_visit_values)"
   ]
  },
  {
   "cell_type": "markdown",
   "metadata": {},
   "source": [
    "I will find out what **would_recommend** values each student that goes to office hours at least once per assignment inputed and sum them."
   ]
  },
  {
   "cell_type": "code",
   "execution_count": 158,
   "metadata": {},
   "outputs": [
    {
     "name": "stdout",
     "output_type": "stream",
     "text": [
      "2012\n"
     ]
    }
   ],
   "source": [
    "oh_students_would_rec_score: int = 0\n",
    "\n",
    "for i in range(0, len(oh_visit_values)):\n",
    "    if oh_visit_values[i] > 0:\n",
    "        oh_students_would_rec_score += would_rec_values[i]\n",
    "\n",
    "print(oh_students_would_rec_score)"
   ]
  },
  {
   "cell_type": "markdown",
   "metadata": {},
   "source": [
    "Then I will find the number of people in the class who visit office hours at least one time per assignment."
   ]
  },
  {
   "cell_type": "code",
   "execution_count": 159,
   "metadata": {},
   "outputs": [
    {
     "name": "stdout",
     "output_type": "stream",
     "text": [
      "388\n"
     ]
    }
   ],
   "source": [
    "oh_vis_students: int = 0\n",
    "\n",
    "for i in range(0, len(oh_visit_values)):\n",
    "    if oh_visit_values[i] > 0:\n",
    "        oh_vis_students += 1\n",
    "\n",
    "print(oh_vis_students)"
   ]
  },
  {
   "cell_type": "markdown",
   "metadata": {},
   "source": [
    "Lastly I will find the average would_recommend score for the students who visited office hours by dividing the would recommend score from the office hour students by the number of students that visit office hours."
   ]
  },
  {
   "cell_type": "code",
   "execution_count": 160,
   "metadata": {},
   "outputs": [
    {
     "name": "stdout",
     "output_type": "stream",
     "text": [
      "5.185567010309279\n"
     ]
    }
   ],
   "source": [
    "oh_vis_avg: float = oh_students_would_rec_score / oh_vis_students\n",
    "\n",
    "print(oh_vis_avg)"
   ]
  },
  {
   "cell_type": "markdown",
   "metadata": {},
   "source": [
    "## I will take all of the values in the would_recommend column and put them in a list."
   ]
  },
  {
   "cell_type": "code",
   "execution_count": 161,
   "metadata": {},
   "outputs": [
    {
     "name": "stdout",
     "output_type": "stream",
     "text": [
      "Column 'would_recommend' has 573 values.\n",
      "The first five values are:\n",
      "7\n",
      "7\n",
      "7\n",
      "7\n",
      "7\n"
     ]
    }
   ],
   "source": [
    "would_rec_values: list[str] = column_values(data_rows, \"would_recommend\")\n",
    "\n",
    "if len(would_rec_values) == 0:\n",
    "    print(\"Complete your implementation of column_values in data_utils.py\")\n",
    "    print(\"Be sure to follow the guidelines above and save your work before re-evaluating!\")\n",
    "else:\n",
    "    print(f\"Column 'would_recommend' has {len(would_rec_values)} values.\")\n",
    "    print(\"The first five values are:\")\n",
    "    for i in range(5):\n",
    "        print(would_rec_values[i])"
   ]
  },
  {
   "cell_type": "markdown",
   "metadata": {},
   "source": [
    "Then I will convert would_rec_values to a list of ints."
   ]
  },
  {
   "cell_type": "code",
   "execution_count": 162,
   "metadata": {},
   "outputs": [
    {
     "name": "stdout",
     "output_type": "stream",
     "text": [
      "[7, 7, 7, 7, 7, 4, 6, 4, 6, 5, 4, 4, 5, 6, 6, 6, 7, 5, 1, 3, 7, 7, 7, 7, 5, 5, 6, 4, 5, 6, 5, 5, 7, 5, 2, 3, 4, 7, 4, 2, 5, 3, 4, 7, 7, 5, 7, 6, 6, 5, 2, 6, 2, 3, 5, 7, 5, 7, 5, 5, 6, 6, 7, 6, 4, 5, 7, 7, 5, 5, 6, 5, 4, 4, 7, 7, 7, 6, 6, 7, 6, 4, 7, 4, 7, 4, 5, 3, 6, 6, 5, 3, 3, 6, 7, 2, 7, 7, 6, 3, 5, 7, 7, 3, 7, 3, 6, 7, 4, 7, 7, 7, 5, 5, 7, 5, 6, 5, 7, 5, 7, 5, 3, 7, 7, 4, 1, 5, 4, 4, 4, 7, 7, 7, 7, 7, 6, 6, 7, 7, 7, 6, 5, 7, 7, 4, 7, 7, 5, 7, 6, 5, 6, 7, 6, 7, 7, 7, 7, 7, 7, 6, 7, 7, 7, 7, 6, 6, 7, 7, 5, 7, 7, 5, 6, 6, 6, 6, 7, 7, 7, 7, 5, 5, 6, 7, 6, 6, 7, 7, 5, 7, 7, 7, 2, 7, 7, 6, 5, 7, 7, 7, 7, 7, 6, 5, 6, 6, 7, 7, 6, 1, 7, 7, 7, 5, 6, 7, 7, 3, 7, 7, 6, 3, 6, 4, 6, 6, 7, 6, 4, 6, 5, 7, 7, 7, 7, 6, 6, 6, 6, 6, 6, 7, 6, 7, 7, 7, 5, 7, 7, 6, 3, 7, 4, 7, 6, 5, 7, 6, 7, 7, 7, 7, 5, 4, 6, 7, 4, 6, 5, 7, 4, 6, 7, 7, 6, 1, 7, 6, 5, 5, 6, 6, 4, 7, 6, 1, 5, 6, 4, 2, 4, 7, 2, 7, 5, 6, 4, 7, 5, 5, 4, 6, 4, 4, 4, 5, 6, 7, 4, 6, 3, 5, 5, 6, 3, 7, 5, 7, 7, 6, 6, 1, 6, 7, 6, 7, 7, 7, 6, 7, 7, 3, 6, 5, 5, 4, 4, 4, 6, 4, 4, 6, 4, 4, 3, 7, 3, 4, 6, 7, 6, 4, 6, 6, 4, 7, 6, 4, 6, 6, 3, 4, 6, 6, 6, 4, 7, 7, 7, 7, 6, 6, 7, 7, 6, 7, 6, 5, 5, 7, 6, 5, 7, 7, 7, 1, 7, 7, 7, 7, 6, 4, 7, 7, 4, 4, 5, 4, 3, 4, 5, 5, 4, 6, 4, 6, 6, 6, 3, 7, 7, 7, 4, 6, 4, 4, 4, 3, 6, 7, 6, 5, 5, 6, 5, 6, 6, 4, 4, 3, 5, 7, 7, 7, 7, 4, 4, 6, 6, 4, 6, 5, 7, 4, 3, 5, 7, 4, 5, 4, 6, 3, 7, 5, 4, 3, 7, 2, 6, 6, 6, 6, 4, 6, 5, 1, 2, 5, 4, 2, 1, 2, 4, 4, 7, 7, 7, 5, 4, 2, 3, 1, 1, 1, 5, 4, 6, 3, 4, 5, 7, 4, 7, 3, 5, 5, 3, 6, 5, 2, 4, 5, 5, 5, 7, 2, 4, 6, 7, 4, 2, 4, 5, 7, 4, 7, 7, 7, 4, 4, 7, 6, 5, 7, 7, 6, 5, 6, 3, 6, 7, 6, 6, 7, 7, 7, 7, 7, 6, 7, 7, 7, 7, 7, 3, 7, 6, 6, 3, 6, 6, 5, 4, 7, 7, 5, 7, 7, 4, 7, 5, 5, 6, 7, 5, 4, 5, 4, 4, 7, 6]\n"
     ]
    }
   ],
   "source": [
    "for i in range(0, len(would_rec_values)):\n",
    "    would_rec_values[i] = int(would_rec_values[i])\n",
    "\n",
    "print(would_rec_values)\n"
   ]
  },
  {
   "cell_type": "markdown",
   "metadata": {},
   "source": [
    "Finally I will calculate sum the total recommendation score of the students and then divide that score by the number of students."
   ]
  },
  {
   "cell_type": "code",
   "execution_count": 163,
   "metadata": {},
   "outputs": [
    {
     "name": "stdout",
     "output_type": "stream",
     "text": [
      "3141\n",
      "5.481675392670157\n"
     ]
    }
   ],
   "source": [
    "would_rec_sum: int = sum(would_rec_values)\n",
    "\n",
    "would_rec_avg: float = would_rec_sum / len(would_rec_values)\n",
    "\n",
    "print(would_rec_sum)\n",
    "print(would_rec_avg)"
   ]
  },
  {
   "cell_type": "markdown",
   "metadata": {},
   "source": [
    "# Summary\n",
    "\n",
    "Because the students who visit office hours scored a 5.18 on the 'would recommend this course' scale compared to the class average of 5.48, I believe my hypothesis was correct."
   ]
  }
 ],
 "metadata": {
  "interpreter": {
   "hash": "d98200d8da189e22a27d5a30120b98f9cf91945c5874b827e131d62fc0899cfe"
  },
  "kernelspec": {
   "display_name": "Python 3.9.7 64-bit",
   "language": "python",
   "name": "python3"
  },
  "language_info": {
   "codemirror_mode": {
    "name": "ipython",
    "version": 3
   },
   "file_extension": ".py",
   "mimetype": "text/x-python",
   "name": "python",
   "nbconvert_exporter": "python",
   "pygments_lexer": "ipython3",
   "version": "3.9.7"
  },
  "orig_nbformat": 4
 },
 "nbformat": 4,
 "nbformat_minor": 2
}
